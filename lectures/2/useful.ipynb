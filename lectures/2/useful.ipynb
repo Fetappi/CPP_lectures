{
 "cells": [
  {
   "cell_type": "raw",
   "metadata": {},
   "source": [
    "---\n",
    "jupytext:\n",
    "  formats: md:myst\n",
    "  text_representation:\n",
    "    extension: .md\n",
    "    format_name: myst\n",
    "kernelspec:\n",
    "  display_name: Python 3\n",
    "  language: python\n",
    "  name: python3\n",
    "---"
   ]
  },
  {
   "cell_type": "markdown",
   "metadata": {},
   "source": [
    "# Полезные изменения в Си++"
   ]
  },
  {
   "cell_type": "markdown",
   "metadata": {},
   "source": [
    "## Ввод-вывод с помощью объектов `cin` и `cout`"
   ]
  },
  {
   "cell_type": "markdown",
   "metadata": {},
   "source": [
    "Все [программы по курсы](https://drive.google.com/open?id=1sOb6fJA52r7vYHCDok9w_lCXTKmP1-ei&usp=drive_fs)\n",
    "```c++\n",
    "#include <iostream> // необходимо для cin и cout\n",
    "#include <stdio.h> // необходимо для scanf и printf\n",
    "using namespace std; \n",
    "\n",
    "int main()\n",
    "{\n",
    "    //инициализация переменных\n",
    "    char str[100] = \"Hello, World!\";\n",
    "    short old = 37;\n",
    "    double x = 3.14;\n",
    "\n",
    "    // printf(\"%s\\n%d\\n%.2f\\n\", str, old, x); // -- вывод в Си\n",
    "\n",
    "    cout << str << endl << old << endl << x << endl; // -- вывод в Си++\n",
    "\n",
    "    return 0;\n",
    "\n",
    "}\n",
    "```"
   ]
  },
  {
   "cell_type": "markdown",
   "metadata": {},
   "source": [
    "```c++\n",
    "#include <iostream>\n",
    "#include <stdio.h>\n",
    "using namespace std;\n",
    "\n",
    "int main()\n",
    "{\n",
    "\n",
    "    char str[100] = \"Hello, World!\";\n",
    "    short old = 37;\n",
    "    double x = 3.14;\n",
    "    \n",
    "    cout << \"Enter old: \";  //вывод\n",
    "    cin >> old;             //ввод\n",
    "    cout << \"Enter x: \";\n",
    "    cin >> x;\n",
    "    // scanf(\"%lf\", &x);    // -- ввод в Си\n",
    "    cout << \"Enter str: \";\n",
    "    cin >> str;\n",
    "\n",
    "    cout << str << '\\n' << old << '\\n' << x << endl;\n",
    "\n",
    "    return 0;\n",
    "\n",
    "}\n",
    "```"
   ]
  },
  {
   "cell_type": "markdown",
   "metadata": {},
   "source": [
    "## Строки"
   ]
  },
  {
   "cell_type": "markdown",
   "metadata": {},
   "source": [
    "Для подключения нам необходимо добавить библиотеку `string`\n",
    "```c++\n",
    "#include <string>\n",
    "```\n",
    "\n",
    "Чтобы инициализировать переменную тип `string`:\n",
    "```cpp\n",
    "string msg = \"Hello\";\n",
    "string name{\"Hello\"};\n",
    "```\n",
    "\n",
    "Вывести:\n",
    "```cpp\n",
    "cout << msg << endl <<  name << endl;\n",
    "```\n",
    "\n",
    "Ввод:\n",
    "```cpp\n",
    "cin >> name;            //будет в записано в name все до пробела\n",
    "getline(cin, msg);      //будет в записано в name все до Enter\n",
    "getline(cin, msg, '!'); //будет в записано в name все до символа !\n",
    "```"
   ]
  },
  {
   "cell_type": "markdown",
   "metadata": {},
   "source": [
    "## Тип данных `bool`"
   ]
  },
  {
   "cell_type": "markdown",
   "metadata": {},
   "source": [
    "В Си++ добавили возможность сохранить логические высказывания в переменную тип bool:\n",
    "```cpp\n",
    "short old = 37;\n",
    "bool flg_old = false;\n",
    "\n",
    "cout << \"Enter old: \";\n",
    "cin >> old;\n",
    "\n",
    "flg_old = old > 18;\n",
    "\n",
    "if (flg_old)\n",
    "    cout << \"You are old!\" << endl;\n",
    "else\n",
    "    cout << \"You are young!\" << endl;\n",
    "\n",
    "```"
   ]
  },
  {
   "cell_type": "markdown",
   "metadata": {},
   "source": [
    "## Значения параметров функции по умолчанию\n",
    "\n",
    "При объявлении параметров функции можно задать для них значения по умолчанию. Это значит, что при вызове функции некоторые параметры можно не указывать. Если их не указать, в функцию будут подставлены значения по умолчанию.\n",
    "\n",
    "Объявление функции:\n",
    "```cpp\n",
    "void show_data(int a=1, const char* str=\"Hi!\", double b=-5.43) {...}\n",
    "```\n",
    "Эту функцию можно вызвать четырьмя разными способами:\n",
    "```cpp\n",
    "show_data(5, \"hello\", -10.53)\n",
    "show_data(5, \"hello\")\n",
    "show_data(5)\n",
    "show_data()\n",
    "```\n",
    "\n",
    "При объявлении параметров по умолчанию следует помнить, что параметры по умолчанию обязаны следовать после обычных параметров. Рассмотрим ошибки:\n",
    "```cpp\n",
    "int length(int a=0, int b, int c=0)  // ошибка\n",
    "{\n",
    "    return sqrt(a*a + b*b + c*c);\n",
    "}\n",
    " \n",
    "double length(double a=0, double b=0, double c)  // ошибка\n",
    "{\n",
    "    return sqrt(a*a + b*b + c*c);\n",
    "}\n",
    "```\n",
    "\n",
    "Функции с параметрами по умолчанию полезны, когда нужно выполнить операцию с разными опциями, но чаще всего используется одна конкретная. Например, функция для округления числа может иметь параметр, который определяет, до какого знака после запятой округлять:\n",
    "```cpp\n",
    "double round_math(double x, int radix=0)\n",
    "{\n",
    "    double p = pow(10, radix);\n",
    "    return round(x * p) / p;\n",
    "}\n",
    "```\n",
    "\n",
    "```cpp\n",
    "double res_1 = round_math(4.5634);  // 5\n",
    "double res_2 = round_math(4.5634, 1); // 4.6\n",
    "double res_3 = round_math(4.5634, 3); // 4.563\n",
    "```"
   ]
  },
  {
   "cell_type": "markdown",
   "metadata": {},
   "source": [
    "## Инициализация в `Си++`"
   ]
  },
  {
   "cell_type": "markdown",
   "metadata": {},
   "source": [
    "```c++\n",
    "int val = 0;  // инициализация в Си\n",
    "int pow[] = {1, 2, 4, 8};\n",
    "\n",
    "double d;\n",
    "d = 5.78;  // операция присваивания\n",
    "\n",
    "```"
   ]
  },
  {
   "cell_type": "markdown",
   "metadata": {},
   "source": [
    "```c++\n",
    "\n",
    "int sh = 10;\n",
    "int sh1{10};   // braced initialization согласованная инициализация\n",
    "int sh2('a'); // functional notation функциональная нотация\n",
    "cout << sh1 << endl << sh2 << endl;\n",
    "\n",
    "```\n",
    "ввывод:\n",
    "\n",
    "10\n",
    "\n",
    "97 // -- значение символа `а` в таблице"
   ]
  },
  {
   "cell_type": "markdown",
   "metadata": {},
   "source": [
    "Отличие `{}` и `()` в том, что *фигурные скобки* сразу же проверяют на совпадение типа данных и если тип данных не совпадает выводит ошибку. *Круглые скобки* в свою очередь при несовпадении тип данных пытаются сделать неявное приведение типа данных.\n",
    "\n",
    "```c++\n",
    "int iv{5.43}; //Ошибка несоответствия типов\n",
    "```"
   ]
  },
  {
   "cell_type": "markdown",
   "metadata": {},
   "source": [
    "### Примеры использования инициализации переменных"
   ]
  },
  {
   "cell_type": "markdown",
   "metadata": {},
   "source": [
    "```c++\n",
    "int sum {2 + 3 + 4 + 5};\n",
    "double p (1 * 2.3 * 4.5 - 1);\n",
    "bool n_fl(false), t_fl(true);\n",
    "```"
   ]
  },
  {
   "cell_type": "markdown",
   "metadata": {},
   "source": [
    "Ключевое слово `auto` --- может объявлять переменные вычисляемого типа. С помощью него auto мы можем объявлять переменные следующим образом:\n",
    "```c++\n",
    "auto i = -100;      // тип int\n",
    "auto d = 76.98;     // тип double\n",
    "auto g = 0.55f;     // тип float\n",
    "auto h = 'f';       // тип char\n",
    "\n",
    "auto i = 1 + 2 - 10;      // тип int\n",
    "auto d = 1 + i + 3.0;     // тип double\n",
    "auto g = 55u;     // тип unsigned int\n",
    "auto h = (short)10 + 100000UL;       // тип unsigned long\n",
    "```"
   ]
  },
  {
   "cell_type": "markdown",
   "metadata": {},
   "source": [
    "(over_func)=\n",
    "\n",
    "## Перегрузка функций\n",
    "\n",
    "В языке программирования C++ можно создавать функции с одинаковыми названиями, но при этом параметры этих функций должны отличаться друг от друга. Это отличает C++ от его предшественника, языка C, где создание функций с одинаковыми названиями было недопустимо. Программа способна автоматически определить, какую функцию нужно выполнить, в зависимости от переданных ей параметров.\n",
    "\n",
    "```cpp\n",
    "int modul(int x)\n",
    "{\n",
    "    cout << \"modul(int)\" << endl;\n",
    "    if(x >= -10 && x <= 10)\n",
    "        return (x > 0) ? x : -x;\n",
    "    return x;\n",
    "}\n",
    " \n",
    "double modul(double x)\n",
    "{\n",
    "    cout << \"modul(double)\" << endl;\n",
    "    if(x >= -10 && x <= 10)\n",
    "        return (x > 0) ? x : -x;\n",
    "    return x;\n",
    "}\n",
    "\n",
    "int main()\n",
    "{\n",
    "    double res_1 = modul(-0.5);  // modul(double)\n",
    "    int res_2 = modul(-0.5);        // modul(double)\n",
    "    double res_3 = modul(-5);    // modul(int)\n",
    "    int res_4 = modul(-5);           // modul(int)\n",
    " \n",
    "    return 0;\n",
    "}\n",
    "```\n",
    "\n",
    "В языке программирования `Си`, в библиотеке `math.h`, каждая математическая функция имеет своё уникальное имя, которое зависит от параметров, даже если функционально они выполняют одинаковые действия. Например, функции `abs` и `fabs` реализуют абсолютное значение числа, но различаются по типу аргумента."
   ]
  },
  {
   "cell_type": "markdown",
   "metadata": {},
   "source": [
    "(for_each)=\n",
    "\n",
    "## Новые возможности пробегать массив с помощью цикла for-each\n",
    "В Си++ появилась новая возможность для перебора последовательностей(в частности массивов), которая называется for-each. Ее синтаксис достаточно простой:\n",
    "```cpp\n",
    "for(тип_данных имя_переменной : перебираемая_последовательность) \n",
    "    {\n",
    "        тело_цикла\n",
    "    }\n",
    "```\n",
    "\n",
    "Пример перебора массива цифр:\n",
    "\n",
    "```cpp\n",
    "    int massiv[5] = {356, 23, 46, 4, 5};\n",
    "\n",
    "    for (int & i: massiv) //по ссылке дабы можно было изменить исходный массив\n",
    "    {\n",
    "        i+=1;\n",
    "    }\n",
    "\n",
    "    for (int i: massiv) // здесь же идет инициализация переменной i, \n",
    "                        // т.е. создание новой переменной i и присваивание элементов из massiv\n",
    "    {\n",
    "        cout << i << \" \"; //но никто не запрещает использовать и константную ссылку\n",
    "    }//вывод: 357 24 47 5 6 \n",
    "```\n",
    "\n",
    "Пример перебора строки:\n",
    "\n",
    "```cpp\n",
    "    string msg = \"Hello\"; \n",
    "\n",
    "    for (char & i: msg)\n",
    "    {\n",
    "        i+= 1;\n",
    "    }\n",
    "\n",
    "\n",
    "    for (char i: msg)\n",
    "    {\n",
    "        cout << i << \" \";\n",
    "    }//вывод: I f m m p \n",
    "```\n",
    "```{note}\n",
    "К сожалению такой способ перебора строк с кириллицей невозможен для типа `char`. Это связано с тем, что русские буквы не поместились в этот тип данных.\n",
    "```"
   ]
  }
 ],
 "metadata": {
  "kernelspec": {
   "display_name": "venv",
   "language": "python",
   "name": "python3"
  },
  "language_info": {
   "codemirror_mode": {
    "name": "ipython",
    "version": 3
   },
   "file_extension": ".py",
   "mimetype": "text/x-python",
   "name": "python",
   "nbconvert_exporter": "python",
   "pygments_lexer": "ipython3",
   "version": "3.13.2"
  }
 },
 "nbformat": 4,
 "nbformat_minor": 2
}
